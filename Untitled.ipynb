{
 "cells": [
  {
   "cell_type": "code",
   "execution_count": 8,
   "metadata": {},
   "outputs": [
    {
     "name": "stdout",
     "output_type": "stream",
     "text": [
      "7\n",
      "2\n",
      "3\n",
      "5\n",
      "7\n"
     ]
    }
   ],
   "source": [
    "x = int(input())\n",
    "# x.split(\",\")\n",
    "# print(x)\n",
    "for num in range(1,x + 1):\n",
    "   # prime numbers are greater than 1\n",
    "    if num>1: \n",
    "        for i in range(2,num):\n",
    "            if (num % i) == 0:\n",
    "                break\n",
    "        else:\n",
    "            print(num)\n",
    "            "
   ]
  },
  {
   "cell_type": "code",
   "execution_count": 13,
   "metadata": {},
   "outputs": [
    {
     "name": "stdout",
     "output_type": "stream",
     "text": [
      "         1\n",
      "         2\n",
      "         3\n",
      "         4\n",
      "         5\n",
      "         6\n",
      "         7\n",
      "         8\n",
      "         9\n",
      "         1\n",
      "         2\n",
      "         3\n",
      "         4\n",
      "         5\n",
      "         6\n",
      "         7\n",
      "         8\n",
      "         9\n",
      "         1\n",
      "         2\n",
      "         3\n",
      "         4\n",
      "         5\n",
      "         6\n",
      "         7\n",
      "         8\n",
      "         9\n",
      "         1\n",
      "         2\n",
      "         3\n",
      "         4\n",
      "         5\n",
      "         6\n",
      "         7\n",
      "         8\n",
      "         9\n",
      "         1\n",
      "         2\n",
      "         3\n",
      "         4\n",
      "         5\n",
      "         6\n",
      "         7\n",
      "         8\n",
      "         9\n",
      "         1\n",
      "         2\n",
      "         3\n",
      "         4\n",
      "         5\n",
      "         6\n",
      "         7\n",
      "         8\n",
      "         9\n",
      "         1\n",
      "         2\n",
      "         3\n",
      "         4\n",
      "         5\n",
      "         6\n",
      "         7\n",
      "         8\n",
      "         9\n",
      "         1\n",
      "         2\n",
      "         3\n",
      "         4\n",
      "         5\n",
      "         6\n",
      "         7\n",
      "         8\n",
      "         9\n",
      "         1\n",
      "         2\n",
      "         3\n",
      "         4\n",
      "         5\n",
      "         6\n",
      "         7\n",
      "         8\n",
      "         9\n"
     ]
    }
   ],
   "source": [
    "for i in range(1,10):\n",
    "    for j in range(1,10):\n",
    "        print('{:>10d}'.format(j))"
   ]
  },
  {
   "cell_type": "code",
   "execution_count": null,
   "metadata": {},
   "outputs": [],
   "source": []
  }
 ],
 "metadata": {
  "kernelspec": {
   "display_name": "Python 3",
   "language": "python",
   "name": "python3"
  },
  "language_info": {
   "codemirror_mode": {
    "name": "ipython",
    "version": 3
   },
   "file_extension": ".py",
   "mimetype": "text/x-python",
   "name": "python",
   "nbconvert_exporter": "python",
   "pygments_lexer": "ipython3",
   "version": "3.6.5"
  }
 },
 "nbformat": 4,
 "nbformat_minor": 2
}
