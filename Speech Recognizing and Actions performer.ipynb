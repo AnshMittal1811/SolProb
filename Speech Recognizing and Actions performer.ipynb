{
 "cells": [
  {
   "cell_type": "code",
   "execution_count": 30,
   "metadata": {},
   "outputs": [
    {
     "name": "stdout",
     "output_type": "stream",
     "text": [
      "I am ready for your command\n",
      "I am ready for your next command\n",
      "I am ready for your next command\n",
      "You said: open Reddit python\n",
      "\n"
     ]
    },
    {
     "ename": "UnboundLocalError",
     "evalue": "local variable 'command' referenced before assignment",
     "output_type": "error",
     "traceback": [
      "\u001b[1;31m---------------------------------------------------------------------------\u001b[0m",
      "\u001b[1;31mUnboundLocalError\u001b[0m                         Traceback (most recent call last)",
      "\u001b[1;32m<ipython-input-30-51641bc89126>\u001b[0m in \u001b[0;36m<module>\u001b[1;34m()\u001b[0m\n\u001b[0;32m     83\u001b[0m \u001b[1;33m\u001b[0m\u001b[0m\n\u001b[0;32m     84\u001b[0m \u001b[1;32mwhile\u001b[0m \u001b[1;32mTrue\u001b[0m\u001b[1;33m:\u001b[0m\u001b[1;33m\u001b[0m\u001b[0m\n\u001b[1;32m---> 85\u001b[1;33m     \u001b[0massistant\u001b[0m\u001b[1;33m(\u001b[0m\u001b[0mmyCommand\u001b[0m\u001b[1;33m(\u001b[0m\u001b[1;33m)\u001b[0m\u001b[1;33m)\u001b[0m\u001b[1;33m\u001b[0m\u001b[0m\n\u001b[0m",
      "\u001b[1;32m<ipython-input-30-51641bc89126>\u001b[0m in \u001b[0;36mmyCommand\u001b[1;34m()\u001b[0m\n\u001b[0;32m     33\u001b[0m         \u001b[0massistant\u001b[0m\u001b[1;33m(\u001b[0m\u001b[0mmyCommand\u001b[0m\u001b[1;33m(\u001b[0m\u001b[1;33m)\u001b[0m\u001b[1;33m)\u001b[0m\u001b[1;33m\u001b[0m\u001b[0m\n\u001b[0;32m     34\u001b[0m \u001b[1;33m\u001b[0m\u001b[0m\n\u001b[1;32m---> 35\u001b[1;33m     \u001b[1;32mreturn\u001b[0m \u001b[0mcommand\u001b[0m\u001b[1;33m\u001b[0m\u001b[0m\n\u001b[0m\u001b[0;32m     36\u001b[0m \u001b[1;33m\u001b[0m\u001b[0m\n\u001b[0;32m     37\u001b[0m \u001b[1;31m#if statements for executing our commands\u001b[0m\u001b[1;33m\u001b[0m\u001b[1;33m\u001b[0m\u001b[0m\n",
      "\u001b[1;31mUnboundLocalError\u001b[0m: local variable 'command' referenced before assignment"
     ]
    }
   ],
   "source": [
    "from gtts import gTTS\n",
    "import speech_recognition as sr\n",
    "import os\n",
    "import webbrowser\n",
    "import smtplib\n",
    "\n",
    "\n",
    "def talkToMe(audio): \n",
    "    print(audio)\n",
    "    tts = gTTS(text = audio, lang='en')\n",
    "    tts.save('audio.mp3')\n",
    "    os.system('mpg123 audio.mp3')\n",
    "    \n",
    "\n",
    "#listens for commands\n",
    "def myCommand(): \n",
    "    # Object for Speech Capturing\n",
    "    r= sr.Recognizer()\n",
    "    \n",
    "    with sr.Microphone() as source:\n",
    "        print('I am ready for your next command')\n",
    "        r.pause_threshold = 1 # gives a little bit of time before starts looking for next command\n",
    "        r.adjust_for_ambient_noise(source, duration = 1) # ambient noise or have some music in the background, dont want to pick up commands from your music\n",
    "        #creating the audio variable\n",
    "        audio = r.listen(source)\n",
    "    \n",
    "    try:\n",
    "        command = r.recognize_google(audio)\n",
    "        print('You said: ' + command + '\\n')\n",
    "        \n",
    "    #loop back to continue to listen for commands\n",
    "    except sr.UnknownValueError:\n",
    "        assistant(myCommand())\n",
    "    \n",
    "    return command\n",
    "\n",
    "#if statements for executing our commands\n",
    "def assistant(command):\n",
    "    if 'open Reddit python' in command: \n",
    "        chrome_path = 'C:\\\\Program Files (x86)\\\\Google\\\\Chrome\\\\Application\\\\chrome.exe'\n",
    "        url = 'https://www.reddit.com/r/python'\n",
    "        webbrowser.register('Chrome', None,webbrowser.BackgroundBrowser(chrome_path),1)\n",
    "        webbrowser.get('Chrome').open(url)\n",
    "        \n",
    "    if 'WhatsApp python' in command: \n",
    "        chrome_path = 'C:\\\\Program Files (x86)\\\\Google\\\\Chrome\\\\Application\\\\chrome.exe'\n",
    "        url = 'https://web.whatsapp.com'\n",
    "        webbrowser.register('Chrome', None,webbrowser.BackgroundBrowser(chrome_path),1)\n",
    "        webbrowser.get('Chrome').open(url)\n",
    "    \n",
    "    if 'how are you' in command:\n",
    "        talkToMe('Chillin\\' bro')\n",
    "        \n",
    "    if 'email' in command:\n",
    "        talkToMe('Who is the recipient?')\n",
    "        recipient = myCommand()\n",
    "        \n",
    "        if 'Anu' in recipient: \n",
    "            talkToMe('What should I say? ')\n",
    "            content = myCommand()\n",
    "            \n",
    "            ##Using SMTP--> init gmail SMTP\n",
    "            mail = smtplib.SMTP('smtp.gmail.com',587)\n",
    "            \n",
    "            ##Identify to server\n",
    "            mail.ehlo()\n",
    "            \n",
    "            ##Encrypt our Session\n",
    "            mail.starttls()\n",
    "            \n",
    "            ##LogIN\n",
    "            mail.login('a12345@gmail.com', 'xxxxxxxxxxxxxxxx')\n",
    "            \n",
    "            ##send message\n",
    "            mail.sendmail('Abcdefgh','a12345678@gmail.com',content)\n",
    "            \n",
    "            ##Close Connection\n",
    "            mail.close()\n",
    "            \n",
    "            talkToMe('Email Sent')\n",
    "        \n",
    "talkToMe('I am ready for your command')\n",
    "\n",
    "while True: \n",
    "    assistant(myCommand())"
   ]
  },
  {
   "cell_type": "code",
   "execution_count": null,
   "metadata": {},
   "outputs": [],
   "source": []
  }
 ],
 "metadata": {
  "kernelspec": {
   "display_name": "Python 3",
   "language": "python",
   "name": "python3"
  },
  "language_info": {
   "codemirror_mode": {
    "name": "ipython",
    "version": 3
   },
   "file_extension": ".py",
   "mimetype": "text/x-python",
   "name": "python",
   "nbconvert_exporter": "python",
   "pygments_lexer": "ipython3",
   "version": "3.6.5"
  }
 },
 "nbformat": 4,
 "nbformat_minor": 2
}
