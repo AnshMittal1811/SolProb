{
 "cells": [
  {
   "cell_type": "code",
   "execution_count": null,
   "metadata": {
    "scrolled": true
   },
   "outputs": [
    {
     "name": "stdout",
     "output_type": "stream",
     "text": [
      "Enter a word or phrase: Buy\n",
      "['B', 'AY']\n",
      "Enter a word or phrase: Buy\n",
      "['B', 'AY']\n",
      "Enter a word or phrase: BUy\n",
      "['B', 'AY']\n",
      "Enter a word or phrase: Hello\n",
      "['HH', 'AH', 'L', 'OW']\n",
      "Enter a word or phrase: Hello\n",
      "['HH', 'AH', 'L', 'OW']\n",
      "Enter a word or phrase: Yo\n",
      "['Y', 'OW']\n",
      "Enter a word or phrase: Tie\n",
      "['T', 'AY']\n"
     ]
    }
   ],
   "source": [
    "import re\n",
    "import wave \n",
    "import pyaudio\n",
    "import _thread\n",
    "import time\n",
    "\n",
    "class TextToSpeech: \n",
    "    CHUNK = 1024\n",
    "    \n",
    "    def __init__(self, words_pron_dict:str = 'cmudict-0.7b.txt'):\n",
    "        self._l = {}\n",
    "        self._load_words(words_pron_dict)\n",
    "        \n",
    "    def _load_words(self, words_pron_dict:str):\n",
    "        with open(words_pron_dict, 'r') as file:\n",
    "            for line in file:\n",
    "                if not line.startswith(';;;'):\n",
    "                    key,val = line.split('  ',2)\n",
    "                    self._l[key] = re.findall(r\"[A-Z]+\",val)\n",
    "                \n",
    "                \n",
    "                \n",
    "    def get_pronunciation(self, str_input): \n",
    "        list_pron = []\n",
    "        for word in re.findall(r\"[\\w']+\",str_input.upper()):\n",
    "            if word in self._l:\n",
    "                list_pron += self._l[word]\n",
    "            print(list_pron)\n",
    "            delay = 0\n",
    "            for pron in list_pron:\n",
    "                _thread.start_new_thread( TextToSpeech._play_audio, (pron, delay, ))\n",
    "                delay += 0.145\n",
    "                \n",
    "                \n",
    "                \n",
    "    def _play_audio(sound, delay):\n",
    "        try:\n",
    "            time.sleep(delay)\n",
    "            wf = wave.open(\"sounds/\" + sound + \".wav\", 'rb')\n",
    "            p = pyaudio.PyAudio()\n",
    "            stream = p.open(format = p.get_format_from_width(wf.getsampwidth()),\n",
    "                           channels=wf.getchannels(),\n",
    "                           rate=wf.getframerate(),\n",
    "                           output =True)\n",
    "            \n",
    "            data = wf.readframes(TextToSpeech.CHUNK)\n",
    "            \n",
    "            while data:\n",
    "                stream.write(data)\n",
    "                data = wf.readframes(TexToSpeech.CHUNK)\n",
    "                \n",
    "            stream.stop_stream()\n",
    "            stream.close()\n",
    "            \n",
    "            p.terminate()\n",
    "            return\n",
    "        except: \n",
    "            pass\n",
    "        \n",
    "        \n",
    "\n",
    "if __name__ == '__main__': \n",
    "    tts=TextToSpeech()\n",
    "    while True:\n",
    "        tts.get_pronunciation(input('Enter a word or phrase: '))\n",
    "            "
   ]
  },
  {
   "cell_type": "code",
   "execution_count": null,
   "metadata": {},
   "outputs": [],
   "source": []
  }
 ],
 "metadata": {
  "kernelspec": {
   "display_name": "Python 3",
   "language": "python",
   "name": "python3"
  },
  "language_info": {
   "codemirror_mode": {
    "name": "ipython",
    "version": 3
   },
   "file_extension": ".py",
   "mimetype": "text/x-python",
   "name": "python",
   "nbconvert_exporter": "python",
   "pygments_lexer": "ipython3",
   "version": "3.6.5"
  }
 },
 "nbformat": 4,
 "nbformat_minor": 2
}
